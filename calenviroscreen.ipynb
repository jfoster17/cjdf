{
 "cells": [
  {
   "cell_type": "markdown",
   "id": "45db7f1a-b7e6-4f95-88cb-ec881fa5f08d",
   "metadata": {
    "extensions": {
     "jupyter_dashboards": {
      "activeView": "grid_default",
      "views": {
       "grid_default": {
        "col": 0,
        "height": 2,
        "hidden": false,
        "locked": true,
        "row": 0,
        "width": 12
       }
      }
     }
    },
    "tags": []
   },
   "source": [
    "# Calenvironscore, Hazardous Waste Sites, and Schools by County"
   ]
  },
  {
   "cell_type": "markdown",
   "id": "fb43ab8a-071e-43b4-b62b-088b3d97a25a",
   "metadata": {
    "extensions": {
     "jupyter_dashboards": {
      "activeView": "grid_default",
      "views": {
       "grid_default": {
        "col": 0,
        "height": 2,
        "hidden": true,
        "locked": true,
        "row": 1,
        "width": 12
       }
      }
     }
    },
    "tags": []
   },
   "source": [
    "This is some background information about the project"
   ]
  },
  {
   "cell_type": "code",
   "execution_count": 103,
   "id": "d760bdf8-fc60-476b-9164-004b4561a281",
   "metadata": {
    "execution": {
     "iopub.execute_input": "2022-09-22T18:48:45.635718Z",
     "iopub.status.busy": "2022-09-22T18:48:45.635051Z",
     "iopub.status.idle": "2022-09-22T18:48:45.645028Z",
     "shell.execute_reply": "2022-09-22T18:48:45.643406Z",
     "shell.execute_reply.started": "2022-09-22T18:48:45.635661Z"
    },
    "extensions": {
     "jupyter_dashboards": {
      "activeView": "grid_default",
      "views": {
       "grid_default": {
        "col": null,
        "height": 2,
        "hidden": true,
        "locked": true,
        "row": null,
        "width": 2
       }
      }
     }
    },
    "tags": []
   },
   "outputs": [],
   "source": [
    "import geopandas as gpd\n",
    "from ipyleaflet import Map, GeoData, basemaps, LayersControl, GeoJSON, LegendControl\n",
    "import json\n",
    "import ipywidgets\n",
    "from ipywidgets import Layout\n",
    "from matplotlib.colors import to_hex\n",
    "import matplotlib.pyplot as plt\n",
    "from functools import partial"
   ]
  },
  {
   "cell_type": "code",
   "execution_count": 104,
   "id": "ef74d5df-fcd1-4c11-bc21-9307474b06a3",
   "metadata": {
    "execution": {
     "iopub.execute_input": "2022-09-22T18:48:46.108165Z",
     "iopub.status.busy": "2022-09-22T18:48:46.107793Z",
     "iopub.status.idle": "2022-09-22T18:48:46.112920Z",
     "shell.execute_reply": "2022-09-22T18:48:46.111981Z",
     "shell.execute_reply.started": "2022-09-22T18:48:46.108132Z"
    },
    "extensions": {
     "jupyter_dashboards": {
      "activeView": "grid_default",
      "views": {
       "grid_default": {
        "col": null,
        "height": 2,
        "hidden": true,
        "locked": true,
        "row": null,
        "width": 2
       }
      }
     }
    },
    "tags": []
   },
   "outputs": [],
   "source": [
    "def handle_new_var(change):\n",
    "    cal_layer.style_callback = partial(feature_color,var = change.new)\n"
   ]
  },
  {
   "cell_type": "code",
   "execution_count": 105,
   "id": "0ecb8eb2-50c6-4011-956a-36a532cbd89e",
   "metadata": {
    "execution": {
     "iopub.execute_input": "2022-09-22T18:48:46.407227Z",
     "iopub.status.busy": "2022-09-22T18:48:46.406867Z",
     "iopub.status.idle": "2022-09-22T18:48:46.413095Z",
     "shell.execute_reply": "2022-09-22T18:48:46.412089Z",
     "shell.execute_reply.started": "2022-09-22T18:48:46.407194Z"
    },
    "tags": []
   },
   "outputs": [],
   "source": [
    "temps = ['#009392','#39b185','#9ccb86','#e9e29c','#eeb479','#e88471','#cf597e']\n",
    "sunset = ['#f3e79b','#fac484','#f8a07e','#eb7f86','#ce6693','#a059a0','#5c53a5']\n",
    "purpor = ['#f9ddda','#f2b9c4','#e597b9','#ce78b3','#ad5fad','#834ba0','#573b88']"
   ]
  },
  {
   "cell_type": "code",
   "execution_count": 106,
   "id": "d3dbab5b-d7b7-4672-914b-75dfe97572b3",
   "metadata": {
    "execution": {
     "iopub.execute_input": "2022-09-22T18:48:46.616719Z",
     "iopub.status.busy": "2022-09-22T18:48:46.616297Z",
     "iopub.status.idle": "2022-09-22T18:48:46.645744Z",
     "shell.execute_reply": "2022-09-22T18:48:46.644632Z",
     "shell.execute_reply.started": "2022-09-22T18:48:46.616682Z"
    },
    "tags": []
   },
   "outputs": [],
   "source": [
    "lookup_table = {'CIscoreP':[  0.        ,  14.28571429,  28.57142857,  42.85714286,\n",
    "         57.14285714,  71.42857143,  85.71428571, 100.        ],\n",
    " 'OzoneP': [  0.        ,  14.28571429,  28.57142857,  42.85714286,\n",
    "         57.14285714,  71.42857143,  85.71428571, 100.        ],\n",
    " 'PM2_5_P': [  0.        ,  14.28571429,  28.57142857,  42.85714286,\n",
    "         57.14285714,  71.42857143,  85.71428571, 100.        ],\n",
    " 'DieselPM_P':[  0.        ,  14.28571429,  28.57142857,  42.85714286,\n",
    "         57.14285714,  71.42857143,  85.71428571, 100.        ],\n",
    " 'PesticideP': [  0.        ,  14.28571429,  28.57142857,  42.85714286,\n",
    "         57.14285714,  71.42857143,  85.71428571, 100.        ],\n",
    " 'Tox_Rel_P': [  0.        ,  14.28571429,  28.57142857,  42.85714286,\n",
    "         57.14285714,  71.42857143,  85.71428571, 100.        ],\n",
    " 'TrafficP': [  0.        ,  14.28571429,  28.57142857,  42.85714286,\n",
    "         57.14285714,  71.42857143,  85.71428571, 100.        ],\n",
    " 'DrinkWatP':[  0.        ,  14.28571429,  28.57142857,  42.85714286,\n",
    "         57.14285714,  71.42857143,  85.71428571, 100.        ],\n",
    " 'Lead_P': [  0.        ,  14.28571429,  28.57142857,  42.85714286,\n",
    "         57.14285714,  71.42857143,  85.71428571, 100.        ],\n",
    " 'CleanupP': [  0.        ,  14.28571429,  28.57142857,  42.85714286,\n",
    "         57.14285714,  71.42857143,  85.71428571, 100.        ],\n",
    " 'GWThreatP': [  0.        ,  14.28571429,  28.57142857,  42.85714286,\n",
    "         57.14285714,  71.42857143,  85.71428571, 100.        ],\n",
    " 'HazWasteP': [  0.        ,  14.28571429,  28.57142857,  42.85714286,\n",
    "         57.14285714,  71.42857143,  85.71428571, 100.        ],\n",
    " 'ImpWatBodP': [  0.        ,  14.28571429,  28.57142857,  42.85714286,\n",
    "         57.14285714,  71.42857143,  85.71428571, 100.        ],\n",
    " 'SolWasteP': [  0.        ,  14.28571429,  28.57142857,  42.85714286,\n",
    "         57.14285714,  71.42857143,  85.71428571, 100.        ],\n",
    " 'PolBurdP': [  0.        ,  14.28571429,  28.57142857,  42.85714286,\n",
    "         57.14285714,  71.42857143,  85.71428571, 100.        ],\n",
    " 'AsthmaP': [  0.        ,  14.28571429,  28.57142857,  42.85714286,\n",
    "         57.14285714,  71.42857143,  85.71428571, 100.        ],\n",
    " 'LowBirWP': [  0.        ,  14.28571429,  28.57142857,  42.85714286,\n",
    "         57.14285714,  71.42857143,  85.71428571, 100.        ],\n",
    " 'CardiovasP':[  0.        ,  14.28571429,  28.57142857,  42.85714286,\n",
    "         57.14285714,  71.42857143,  85.71428571, 100.        ],\n",
    " 'EducatP': [  0.        ,  14.28571429,  28.57142857,  42.85714286,\n",
    "         57.14285714,  71.42857143,  85.71428571, 100.        ],\n",
    " 'Ling_IsolP':[  0.        ,  14.28571429,  28.57142857,  42.85714286,\n",
    "         57.14285714,  71.42857143,  85.71428571, 100.        ],\n",
    " 'PovertyP':[  0.        ,  14.28571429,  28.57142857,  42.85714286,\n",
    "         57.14285714,  71.42857143,  85.71428571, 100.        ],\n",
    " 'UnemplP': [  0.        ,  14.28571429,  28.57142857,  42.85714286,\n",
    "         57.14285714,  71.42857143,  85.71428571, 100.        ],\n",
    " 'HousBurdP': [  0.        ,  14.28571429,  28.57142857,  42.85714286,\n",
    "         57.14285714,  71.42857143,  85.71428571, 100.        ],\n",
    " 'PopCharP': [  0.        ,  14.28571429,  28.57142857,  42.85714286,\n",
    "         57.14285714,  71.42857143,  85.71428571, 100.        ],\n",
    " 'Hispanic': [ -1.      ,  10.414156,  16.993808,  25.102892,  37.262714,\n",
    "         53.427914,  71.86412 , 100.      ],\n",
    " 'White': [ -1.      ,   7.329732,  16.848244,  29.085772,  43.918998,\n",
    "         57.28446 ,  70.26504 , 100.      ],\n",
    " 'AfricanAm': [-1.      ,  0.281864,  0.978956,  1.886408,  3.326938,  5.691058,\n",
    "        10.6181  , 84.7082  ],\n",
    " 'NativeAm': [ -1.      ,   0.      ,   0.      ,   0.      ,   0.      ,\n",
    "          0.283014,   0.66225 , 100.      ],\n",
    " 'OtherMult': [-1.      ,  0.652344,  1.572924,  2.366828,  3.320956,  4.354834,\n",
    "         5.76382 , 17.0653  ],\n",
    " 'BIPOC': [0.        , 0.21473146, 0.31803276, 0.45102775, 0.61592223,\n",
    "        0.77472911, 0.9006613 , 1.        ],\n",
    " 'CleanupSite_Density': [1.31506805e-04, 1.22203901e-01, 3.35259215e-01, 5.25072014e-01,\n",
    "        7.74143341e-01, 1.12275009e+00, 1.93305654e+00, 3.83504085e+01]\n",
    "}\n"
   ]
  },
  {
   "cell_type": "code",
   "execution_count": 107,
   "id": "9f769d0c-34fc-4a8b-963d-db57b443a6e3",
   "metadata": {
    "execution": {
     "iopub.execute_input": "2022-09-22T18:48:46.820596Z",
     "iopub.status.busy": "2022-09-22T18:48:46.820165Z",
     "iopub.status.idle": "2022-09-22T18:48:46.849989Z",
     "shell.execute_reply": "2022-09-22T18:48:46.848893Z",
     "shell.execute_reply.started": "2022-09-22T18:48:46.820560Z"
    },
    "tags": []
   },
   "outputs": [],
   "source": [
    "region_focus = {'Santa Barbara': ([34.67, -120.02], 10),\n",
    " 'Colusa': ([39.18, -122.24], 10),\n",
    " 'Tehama': ([40.13, -122.23], 9),\n",
    " 'Imperial': ([33.04, -115.37], 9),\n",
    " 'Monterey': ([36.22, -121.24], 9),\n",
    " 'Amador': ([38.45, -120.65], 10),\n",
    " 'Placer': ([39.06, -120.75], 10),\n",
    " 'Calaveras': ([38.2, -120.55], 10),\n",
    " 'Mono': ([37.94, -118.89], 9),\n",
    " 'Orange': ([33.7, -117.76], 10),\n",
    " 'Sonoma': ([38.53, -122.89], 9),\n",
    " 'Siskiyou': ([41.59, -122.54], 9),\n",
    " 'Kern': ([35.34, -118.73], 9),\n",
    " 'Yolo': ([38.69, -121.9], 10),\n",
    " 'Sacramento': ([38.45, -121.34], 10),\n",
    " 'Madera': ([37.22, -119.76], 9),\n",
    " 'Mendocino': ([39.44, -123.39], 9),\n",
    " 'Tulare': ([36.22, -118.8], 9),\n",
    " 'Yuba': ([39.27, -121.35], 10),\n",
    " 'Plumas': ([40.0, -120.84], 10),\n",
    " 'Stanislaus': ([37.56, -121.0], 10),\n",
    " 'Shasta': ([40.76, -122.04], 9),\n",
    " 'Fresno': ([36.76, -119.65], 9),\n",
    " 'Marin': ([38.07, -122.72], 10),\n",
    " 'Mariposa': ([37.58, -119.91], 10),\n",
    " 'Alpine': ([38.6, -119.82], 10),\n",
    " 'Glenn': ([39.6, -122.39], 10),\n",
    " 'Lassen': ([40.67, -120.59], 9),\n",
    " 'Del Norte': ([41.74, -123.9], 10),\n",
    " 'San Mateo': ([37.42, -122.33], 10),\n",
    " 'San Luis Obispo': ([35.39, -120.4], 9),\n",
    " 'Napa': ([38.51, -122.33], 10),\n",
    " 'San Joaquin': ([37.93, -121.27], 10),\n",
    " 'Nevada': ([39.3, -120.77], 10),\n",
    " 'San Bernardino': ([34.84, -116.18], 8),\n",
    " 'Riverside': ([33.74, -115.99], 9),\n",
    " 'Sutter': ([39.03, -121.69], 10),\n",
    " 'Trinity': ([40.65, -123.11], 9),\n",
    " 'Contra Costa': ([37.92, -121.93], 10),\n",
    " 'Ventura': ([34.46, -119.08], 9),\n",
    " 'El Dorado': ([38.77, -120.54], 10),\n",
    " 'Tuolumne': ([38.03, -119.95], 10),\n",
    " 'Sierra': ([39.58, -120.52], 10),\n",
    " 'Lake': ([39.1, -122.75], 10),\n",
    " 'Butte': ([39.67, -121.6], 10),\n",
    " 'Modoc': ([41.59, -120.72], 9),\n",
    " 'Alameda': ([37.65, -121.89], 10),\n",
    " 'San Francisco': ([37.76, -122.44], 10),\n",
    " 'Merced': ([37.19, -120.72], 10),\n",
    " 'Inyo': ([36.51, -117.41], 8),\n",
    " 'Solano': ([38.27, -121.93], 10),\n",
    " 'Kings': ([36.08, -119.82], 10),\n",
    " 'Humboldt': ([40.7, -123.88], 8),\n",
    " 'Los Angeles': ([34.32, -118.22], 9),\n",
    " 'Santa Clara': ([37.18, -121.75], 5),\n",
    " 'San Diego': ([32.99, -116.85], 9),\n",
    " 'San Benito': ([36.59, -121.09], 9),\n",
    " 'Santa Cruz': ([37.02, -121.97], 10),               \n",
    "               }\n"
   ]
  },
  {
   "cell_type": "code",
   "execution_count": 108,
   "id": "ca93e31c-a0e0-4031-9271-6e1adde396d7",
   "metadata": {
    "execution": {
     "iopub.execute_input": "2022-09-22T18:48:47.113276Z",
     "iopub.status.busy": "2022-09-22T18:48:47.112897Z",
     "iopub.status.idle": "2022-09-22T18:48:47.123319Z",
     "shell.execute_reply": "2022-09-22T18:48:47.122093Z",
     "shell.execute_reply.started": "2022-09-22T18:48:47.113239Z"
    },
    "extensions": {
     "jupyter_dashboards": {
      "activeView": "grid_default",
      "views": {
       "grid_default": {
        "col": null,
        "height": 2,
        "hidden": true,
        "locked": true,
        "row": null,
        "width": 2
       }
      }
     }
    },
    "tags": []
   },
   "outputs": [],
   "source": [
    "def handle_new_region(change):\n",
    "    center,zoom = region_focus[change.new]\n",
    "    m.center = center\n",
    "    m.zoom = zoom\n",
    "    cal_reduced = calenviroscreen[calenviroscreen['County'] == change.new]\n",
    "    school_reduced = schools[schools['County'] == change.new]\n",
    "    hzw_sites_reduced = hzw_sites[hzw_sites['COUNTY'] == change.new.upper()]\n",
    "\n",
    "    cal_layer.data = cal_reduced.__geo_interface__\n",
    "    school_layer.data = school_reduced.__geo_interface__\n",
    "    hzw_sites_layer.data = hzw_sites_reduced.__geo_interface__"
   ]
  },
  {
   "cell_type": "code",
   "execution_count": 109,
   "id": "4c54c1be-f235-4196-89e0-452453cd7d63",
   "metadata": {
    "execution": {
     "iopub.execute_input": "2022-09-22T18:48:47.379961Z",
     "iopub.status.busy": "2022-09-22T18:48:47.379533Z",
     "iopub.status.idle": "2022-09-22T18:48:47.411094Z",
     "shell.execute_reply": "2022-09-22T18:48:47.410528Z",
     "shell.execute_reply.started": "2022-09-22T18:48:47.379920Z"
    },
    "extensions": {
     "jupyter_dashboards": {
      "activeView": "grid_default",
      "views": {
       "grid_default": {
        "col": 8,
        "height": 3,
        "hidden": false,
        "locked": true,
        "row": 6,
        "width": 4
       }
      }
     }
    },
    "tags": []
   },
   "outputs": [
    {
     "data": {
      "application/vnd.jupyter.widget-view+json": {
       "model_id": "3d356cc87cc04d3eb360e2879fbd619e",
       "version_major": 2,
       "version_minor": 0
      },
      "text/plain": [
       "Label(value='Choose a variable to display as color on the map')"
      ]
     },
     "metadata": {},
     "output_type": "display_data"
    },
    {
     "data": {
      "application/vnd.jupyter.widget-view+json": {
       "model_id": "77e7341243be47279d03ad11594e2e71",
       "version_major": 2,
       "version_minor": 0
      },
      "text/plain": [
       "Dropdown(description='Variable:', options=(('CalEnviroScreen Score', 'CIscoreP'), ('Linguistic Isolation', 'Li…"
      ]
     },
     "metadata": {},
     "output_type": "display_data"
    }
   ],
   "source": [
    "var_caption = ipywidgets.Label(value='Choose a variable to display as color on the map')\n",
    "var_selection = ipywidgets.Dropdown(\n",
    "    options=[('CalEnviroScreen Score','CIscoreP'),\n",
    "             ('Linguistic Isolation','Ling_IsolP'),\n",
    "             ('Pesticide Use','PesticideP'),\n",
    "             ('% BIPOC', 'BIPOC'),\n",
    "             ('Density of Cleanup Sites','CleanupSite_Density'),\n",
    "            ],\n",
    "    value='CIscoreP',\n",
    "    description='Variable:',\n",
    ")\n",
    "var_selection.observe(handle_new_var,names='value')\n",
    "display(var_caption, var_selection)"
   ]
  },
  {
   "cell_type": "code",
   "execution_count": 110,
   "id": "ad565162-0e04-418f-ba6b-76f600a00fa8",
   "metadata": {
    "execution": {
     "iopub.execute_input": "2022-09-22T18:48:47.609472Z",
     "iopub.status.busy": "2022-09-22T18:48:47.608896Z",
     "iopub.status.idle": "2022-09-22T18:48:47.637718Z",
     "shell.execute_reply": "2022-09-22T18:48:47.637258Z",
     "shell.execute_reply.started": "2022-09-22T18:48:47.609435Z"
    },
    "extensions": {
     "jupyter_dashboards": {
      "activeView": "grid_default",
      "views": {
       "grid_default": {
        "col": 8,
        "height": 3,
        "hidden": false,
        "locked": true,
        "row": 3,
        "width": 4
       }
      }
     }
    },
    "tags": []
   },
   "outputs": [
    {
     "data": {
      "application/vnd.jupyter.widget-view+json": {
       "model_id": "08620443996749e6ac605b18b086e0f0",
       "version_major": 2,
       "version_minor": 0
      },
      "text/plain": [
       "Label(value='Choose a county to display')"
      ]
     },
     "metadata": {},
     "output_type": "display_data"
    },
    {
     "data": {
      "application/vnd.jupyter.widget-view+json": {
       "model_id": "eae423e7096b4a0aa791e6a127a02ca6",
       "version_major": 2,
       "version_minor": 0
      },
      "text/plain": [
       "Dropdown(description='County:', index=18, options=('Alameda', 'Alpine', 'Amador', 'Butte', 'Calaveras', 'Colus…"
      ]
     },
     "metadata": {},
     "output_type": "display_data"
    }
   ],
   "source": [
    "region_caption = ipywidgets.Label(value='Choose a county to display')\n",
    "region_selection = ipywidgets.Dropdown(\n",
    "    options= sorted(list(region_focus.keys())),\n",
    "    value='Los Angeles',\n",
    "    description='County:',\n",
    ")\n",
    "region_selection.observe(handle_new_region, names='value')\n",
    "display(region_caption, region_selection)"
   ]
  },
  {
   "cell_type": "code",
   "execution_count": 111,
   "id": "8cb20b2c-8d61-4c02-bd62-c11e83a0661e",
   "metadata": {
    "execution": {
     "iopub.execute_input": "2022-09-22T18:48:47.846522Z",
     "iopub.status.busy": "2022-09-22T18:48:47.846158Z",
     "iopub.status.idle": "2022-09-22T18:48:48.407849Z",
     "shell.execute_reply": "2022-09-22T18:48:48.407520Z",
     "shell.execute_reply.started": "2022-09-22T18:48:47.846487Z"
    },
    "extensions": {
     "jupyter_dashboards": {
      "activeView": "grid_default",
      "views": {
       "grid_default": {
        "col": null,
        "height": 2,
        "hidden": true,
        "locked": true,
        "row": null,
        "width": 2
       }
      }
     }
    },
    "tags": []
   },
   "outputs": [],
   "source": [
    "calenviroscreen = gpd.read_file(\"calenviroscreen.gpkg\")\n",
    "calenviroscreen_la = calenviroscreen[calenviroscreen['County'] == 'Los Angeles']\n"
   ]
  },
  {
   "cell_type": "code",
   "execution_count": 112,
   "id": "55c3795d-ca22-48ae-b5bc-929a735cfaad",
   "metadata": {
    "execution": {
     "iopub.execute_input": "2022-09-22T18:48:48.408759Z",
     "iopub.status.busy": "2022-09-22T18:48:48.408663Z",
     "iopub.status.idle": "2022-09-22T18:48:48.411950Z",
     "shell.execute_reply": "2022-09-22T18:48:48.411562Z",
     "shell.execute_reply.started": "2022-09-22T18:48:48.408747Z"
    },
    "tags": []
   },
   "outputs": [],
   "source": [
    "def feature_color(feature, var='CIscoreP'):\n",
    "    score = feature['properties'][var]\n",
    "    breaks = lookup_table.get(var)\n",
    "    if var.endswith('P') or var =='CleanupSite_Density':\n",
    "        colormap = temps\n",
    "    else:\n",
    "        colormap = purpor\n",
    "    if score < 0:\n",
    "        return {'fillColor':'gray','color':'gray'}\n",
    "    else:\n",
    "        for i,breakpoint in enumerate(breaks):\n",
    "            if score <= breakpoint:\n",
    "                break\n",
    "    return {'fillColor':colormap[i-1], 'color':colormap[i-1]}"
   ]
  },
  {
   "cell_type": "code",
   "execution_count": 113,
   "id": "07064cb7-a553-4496-908d-df363a801d41",
   "metadata": {
    "execution": {
     "iopub.execute_input": "2022-09-22T18:48:48.483789Z",
     "iopub.status.busy": "2022-09-22T18:48:48.483569Z",
     "iopub.status.idle": "2022-09-22T18:48:48.487884Z",
     "shell.execute_reply": "2022-09-22T18:48:48.487389Z",
     "shell.execute_reply.started": "2022-09-22T18:48:48.483766Z"
    },
    "extensions": {
     "jupyter_dashboards": {
      "activeView": "grid_default",
      "views": {
       "grid_default": {
        "col": null,
        "height": 2,
        "hidden": true,
        "locked": true,
        "row": null,
        "width": 2
       }
      }
     }
    },
    "tags": []
   },
   "outputs": [],
   "source": [
    "\n",
    "def feature_color_percent(feature, var='CIscoreP'):\n",
    "    #print(feature['properties'])\n",
    "    score = feature['properties'][var]\n",
    "    if var.endswith('P'):\n",
    "\n",
    "        if score < 0:\n",
    "            region_color = 'gray' # NaNs\n",
    "        elif score < 25:\n",
    "            region_color = 'green'\n",
    "        elif score < 50:\n",
    "            region_color = 'yellow'\n",
    "        elif score < 75:\n",
    "            region_color = 'orange'\n",
    "        else:\n",
    "            region_color = 'red'\n",
    "    return {'fillColor': region_color, 'color': region_color}\n"
   ]
  },
  {
   "cell_type": "code",
   "execution_count": 114,
   "id": "7a629fb1-f5be-41d8-985a-5428e209a41f",
   "metadata": {
    "execution": {
     "iopub.execute_input": "2022-09-22T18:48:48.709021Z",
     "iopub.status.busy": "2022-09-22T18:48:48.708337Z",
     "iopub.status.idle": "2022-09-22T18:48:50.503679Z",
     "shell.execute_reply": "2022-09-22T18:48:50.501499Z",
     "shell.execute_reply.started": "2022-09-22T18:48:48.708951Z"
    },
    "extensions": {
     "jupyter_dashboards": {
      "activeView": "grid_default",
      "views": {
       "grid_default": {
        "col": 0,
        "height": 17,
        "hidden": false,
        "locked": true,
        "row": 3,
        "width": 8
       }
      }
     }
    },
    "tags": []
   },
   "outputs": [
    {
     "data": {
      "application/vnd.jupyter.widget-view+json": {
       "model_id": "c98d6f7412654504af753e7fe4888cbc",
       "version_major": 2,
       "version_minor": 0
      },
      "text/plain": [
       "Map(center=[33.94, -118.24], controls=(ZoomControl(options=['position', 'zoom_in_text', 'zoom_in_title', 'zoom…"
      ]
     },
     "metadata": {},
     "output_type": "display_data"
    }
   ],
   "source": [
    "m = Map(center=(33.94, -118.24), zoom = 10, basemap= basemaps.Esri.WorldTopoMap,\n",
    "       layout=Layout(height='600px'))\n",
    "cal_layer = GeoJSON(data = calenviroscreen_la.__geo_interface__,\n",
    "                    style={'weight':0.1,'fillOpacity':0.2},\n",
    "                    hover_style={'fillOpacity': 0.4},\n",
    "                    #style_callback=lambda feat: {\"opacity\": 0}, #This was an attempt to stop the layer from blinking as we switch. It did not work\n",
    "                    name = 'CalEnvironScreen')\n",
    "m.add_layer(cal_layer)\n",
    "cal_layer.style_callback = partial(feature_color, var='CIscoreP')\n",
    "\n",
    "m"
   ]
  },
  {
   "cell_type": "code",
   "execution_count": 115,
   "id": "53f938c3-e708-4f83-af0b-3434827cd036",
   "metadata": {
    "execution": {
     "iopub.execute_input": "2022-09-22T18:48:50.509497Z",
     "iopub.status.busy": "2022-09-22T18:48:50.508771Z",
     "iopub.status.idle": "2022-09-22T18:48:51.060013Z",
     "shell.execute_reply": "2022-09-22T18:48:51.059651Z",
     "shell.execute_reply.started": "2022-09-22T18:48:50.509478Z"
    },
    "extensions": {
     "jupyter_dashboards": {
      "activeView": "grid_default",
      "views": {
       "grid_default": {
        "col": null,
        "height": 2,
        "hidden": true,
        "locked": true,
        "row": null,
        "width": 2
       }
      }
     }
    },
    "tags": []
   },
   "outputs": [],
   "source": [
    "hzw_sites = gpd.read_file(f'hzw_sites.gpkg')"
   ]
  },
  {
   "cell_type": "code",
   "execution_count": 116,
   "id": "3f0102f4-1b26-4f8d-8d1a-f38b32b9950a",
   "metadata": {
    "execution": {
     "iopub.execute_input": "2022-09-22T18:48:51.348705Z",
     "iopub.status.busy": "2022-09-22T18:48:51.348337Z",
     "iopub.status.idle": "2022-09-22T18:48:52.048196Z",
     "shell.execute_reply": "2022-09-22T18:48:52.047845Z",
     "shell.execute_reply.started": "2022-09-22T18:48:51.348671Z"
    },
    "extensions": {
     "jupyter_dashboards": {
      "activeView": "grid_default",
      "views": {
       "grid_default": {
        "col": null,
        "height": 2,
        "hidden": true,
        "locked": true,
        "row": null,
        "width": 2
       }
      }
     }
    },
    "tags": []
   },
   "outputs": [],
   "source": [
    "schools = gpd.read_file('schools.gpkg')"
   ]
  },
  {
   "cell_type": "code",
   "execution_count": 117,
   "id": "210e76c8-5488-4833-a687-5240ff4052d0",
   "metadata": {
    "execution": {
     "iopub.execute_input": "2022-09-22T18:48:52.050199Z",
     "iopub.status.busy": "2022-09-22T18:48:52.050087Z",
     "iopub.status.idle": "2022-09-22T18:48:52.076778Z",
     "shell.execute_reply": "2022-09-22T18:48:52.076441Z",
     "shell.execute_reply.started": "2022-09-22T18:48:52.050186Z"
    },
    "extensions": {
     "jupyter_dashboards": {
      "activeView": "grid_default",
      "views": {
       "grid_default": {
        "col": null,
        "height": 2,
        "hidden": true,
        "locked": true,
        "row": null,
        "width": 2
       }
      }
     }
    },
    "tags": []
   },
   "outputs": [],
   "source": [
    "schools_la = schools[schools['County']=='Los Angeles']\n",
    "hzw_sites_la = hzw_sites[hzw_sites['COUNTY']=='LOS ANGELES']"
   ]
  },
  {
   "cell_type": "code",
   "execution_count": 118,
   "id": "34e3dbd4-e07b-4cfb-a9a8-c330372d3de7",
   "metadata": {
    "execution": {
     "iopub.execute_input": "2022-09-22T18:48:52.077840Z",
     "iopub.status.busy": "2022-09-22T18:48:52.077742Z",
     "iopub.status.idle": "2022-09-22T18:48:53.948556Z",
     "shell.execute_reply": "2022-09-22T18:48:53.948005Z",
     "shell.execute_reply.started": "2022-09-22T18:48:52.077829Z"
    },
    "extensions": {
     "jupyter_dashboards": {
      "activeView": "grid_default",
      "views": {
       "grid_default": {
        "col": null,
        "height": 2,
        "hidden": true,
        "locked": true,
        "row": null,
        "width": 2
       }
      }
     }
    },
    "tags": []
   },
   "outputs": [],
   "source": [
    "school_layer =  GeoJSON(data = schools_la.__geo_interface__,\n",
    "                    style={'color': 'gold', 'radius':8, 'fillColor': 'gold', 'opacity':0.9, 'weight':1.9, 'dashArray':'2', 'fillOpacity':0.7},\n",
    "                    hover_style={'fillColor': 'gold' , 'fillOpacity': 0.7},\n",
    "                    name = 'Schools')"
   ]
  },
  {
   "cell_type": "code",
   "execution_count": 119,
   "id": "b42ea41a-c715-4375-9683-c32f9f50a63c",
   "metadata": {
    "execution": {
     "iopub.execute_input": "2022-09-22T18:48:53.950149Z",
     "iopub.status.busy": "2022-09-22T18:48:53.949891Z",
     "iopub.status.idle": "2022-09-22T18:48:53.953512Z",
     "shell.execute_reply": "2022-09-22T18:48:53.953141Z",
     "shell.execute_reply.started": "2022-09-22T18:48:53.950132Z"
    },
    "extensions": {
     "jupyter_dashboards": {
      "activeView": "grid_default",
      "views": {
       "grid_default": {
        "col": null,
        "height": 2,
        "hidden": true,
        "locked": true,
        "row": null,
        "width": 2
       }
      }
     }
    },
    "tags": []
   },
   "outputs": [],
   "source": [
    "m.add_layer(school_layer)\n"
   ]
  },
  {
   "cell_type": "code",
   "execution_count": 120,
   "id": "33ba7081-c5da-4849-ba75-a85c7d2837bc",
   "metadata": {
    "execution": {
     "iopub.execute_input": "2022-09-22T18:48:53.954234Z",
     "iopub.status.busy": "2022-09-22T18:48:53.954146Z",
     "iopub.status.idle": "2022-09-22T18:48:54.368522Z",
     "shell.execute_reply": "2022-09-22T18:48:54.368124Z",
     "shell.execute_reply.started": "2022-09-22T18:48:53.954222Z"
    },
    "extensions": {
     "jupyter_dashboards": {
      "activeView": "grid_default",
      "views": {
       "grid_default": {
        "col": null,
        "height": 2,
        "hidden": true,
        "locked": true,
        "row": null,
        "width": 2
       }
      }
     }
    },
    "tags": []
   },
   "outputs": [],
   "source": [
    "hzw_sites_layer =  GeoJSON(data = hzw_sites_la.__geo_interface__,\n",
    "                    style={'color': 'red', 'radius':2, 'fillColor': 'red', 'opacity':0.5, 'weight':1.9, 'dashArray':'2', 'fillOpacity':0.3},\n",
    "                    #hover_style={'fillColor': 'red' , 'fillOpacity': 0.7},\n",
    "                    point_style={'radius': 2, 'color': 'red', 'fillOpacity': 0.3, 'fillColor': 'red', 'weight': 0},\n",
    "                    name = 'Hazardous Waste Cleanup Sites')"
   ]
  },
  {
   "cell_type": "code",
   "execution_count": 121,
   "id": "854aded4-156f-4dca-8bc5-3e1711b7f538",
   "metadata": {
    "execution": {
     "iopub.execute_input": "2022-09-22T18:48:54.369971Z",
     "iopub.status.busy": "2022-09-22T18:48:54.369883Z",
     "iopub.status.idle": "2022-09-22T18:48:54.372217Z",
     "shell.execute_reply": "2022-09-22T18:48:54.371911Z",
     "shell.execute_reply.started": "2022-09-22T18:48:54.369959Z"
    },
    "extensions": {
     "jupyter_dashboards": {
      "activeView": "grid_default",
      "views": {
       "grid_default": {
        "col": null,
        "height": 2,
        "hidden": true,
        "locked": true,
        "row": null,
        "width": 2
       }
      }
     }
    },
    "tags": []
   },
   "outputs": [],
   "source": [
    "m.add_layer(hzw_sites_layer)"
   ]
  },
  {
   "cell_type": "code",
   "execution_count": 122,
   "id": "b3194b8d-7d1e-4c07-a669-768cbc76e22e",
   "metadata": {
    "execution": {
     "iopub.execute_input": "2022-09-22T18:48:55.883136Z",
     "iopub.status.busy": "2022-09-22T18:48:55.882956Z",
     "iopub.status.idle": "2022-09-22T18:48:55.886526Z",
     "shell.execute_reply": "2022-09-22T18:48:55.886190Z",
     "shell.execute_reply.started": "2022-09-22T18:48:55.883117Z"
    },
    "extensions": {
     "jupyter_dashboards": {
      "activeView": "grid_default",
      "views": {
       "grid_default": {
        "col": null,
        "height": 2,
        "hidden": true,
        "locked": true,
        "row": null,
        "width": 2
       }
      }
     }
    },
    "tags": []
   },
   "outputs": [],
   "source": [
    "control = LayersControl(position='topright')\n",
    "m.add_control(control)\n"
   ]
  },
  {
   "cell_type": "code",
   "execution_count": 123,
   "id": "e77655ac-6f2b-4c8d-be10-d12580a06fed",
   "metadata": {
    "execution": {
     "iopub.execute_input": "2022-09-22T18:48:55.888178Z",
     "iopub.status.busy": "2022-09-22T18:48:55.888103Z",
     "iopub.status.idle": "2022-09-22T18:48:55.891803Z",
     "shell.execute_reply": "2022-09-22T18:48:55.891267Z",
     "shell.execute_reply.started": "2022-09-22T18:48:55.888167Z"
    },
    "extensions": {
     "jupyter_dashboards": {
      "activeView": "grid_default",
      "views": {
       "grid_default": {
        "col": null,
        "height": 2,
        "hidden": true,
        "locked": true,
        "row": null,
        "width": 2
       }
      }
     }
    },
    "tags": []
   },
   "outputs": [],
   "source": [
    "def update_html(feature, **kwargs):\n",
    "    #print(feature['properties'])\n",
    "    tract = feature['properties']['Tract']\n",
    "    hover_info.value = f'''\n",
    "    <h3>Census Tract Information</h3>\n",
    "        <h4><b>Tract #: {tract}</b></h4>\n",
    "        Location: {feature['properties']['ApproxLoc']}</br>\n",
    "        Population: {feature['properties']['TotPop19']}</br>\n",
    "    '''\n",
    "    df = hzw_sites[hzw_sites['Tract'] == tract]\n",
    "    site_info.clear_output()\n",
    "    with site_info:\n",
    "        display(df)\n"
   ]
  },
  {
   "cell_type": "code",
   "execution_count": 124,
   "id": "ac87f1ca-dc11-4ca6-893d-52155789dcd2",
   "metadata": {
    "execution": {
     "iopub.execute_input": "2022-09-22T18:48:55.892951Z",
     "iopub.status.busy": "2022-09-22T18:48:55.892822Z",
     "iopub.status.idle": "2022-09-22T18:48:55.897757Z",
     "shell.execute_reply": "2022-09-22T18:48:55.897495Z",
     "shell.execute_reply.started": "2022-09-22T18:48:55.892935Z"
    },
    "extensions": {
     "jupyter_dashboards": {
      "activeView": "grid_default",
      "views": {
       "grid_default": {
        "col": 0,
        "height": 10,
        "hidden": false,
        "locked": true,
        "row": 20,
        "width": 12
       }
      }
     }
    },
    "tags": []
   },
   "outputs": [
    {
     "data": {
      "application/vnd.jupyter.widget-view+json": {
       "model_id": "7dd73f00ee9e49159a02203418e39cc0",
       "version_major": 2,
       "version_minor": 0
      },
      "text/plain": [
       "Output()"
      ]
     },
     "metadata": {},
     "output_type": "display_data"
    }
   ],
   "source": [
    "site_info = ipywidgets.Output()\n",
    "display(site_info)"
   ]
  },
  {
   "cell_type": "code",
   "execution_count": 125,
   "id": "ad62c40f-e61b-443f-8f16-ca9846cd6012",
   "metadata": {
    "execution": {
     "iopub.execute_input": "2022-09-22T18:48:55.898463Z",
     "iopub.status.busy": "2022-09-22T18:48:55.898334Z",
     "iopub.status.idle": "2022-09-22T18:48:55.904029Z",
     "shell.execute_reply": "2022-09-22T18:48:55.903743Z",
     "shell.execute_reply.started": "2022-09-22T18:48:55.898451Z"
    },
    "extensions": {
     "jupyter_dashboards": {
      "activeView": "grid_default",
      "views": {
       "grid_default": {
        "col": 8,
        "height": 8,
        "hidden": false,
        "locked": true,
        "row": 9,
        "width": 4
       }
      }
     }
    },
    "tags": []
   },
   "outputs": [
    {
     "data": {
      "application/vnd.jupyter.widget-view+json": {
       "model_id": "8311a397cee14abebdb7c10f3e8383ef",
       "version_major": 2,
       "version_minor": 0
      },
      "text/plain": [
       "HTML(value='\\n    <h3>Census Tract Information</h3>\\n    Hover over a region\\n    ')"
      ]
     },
     "metadata": {},
     "output_type": "display_data"
    }
   ],
   "source": [
    "hover_info = ipywidgets.HTML(\n",
    "    value=\"\"\"\n",
    "    <h3>Census Tract Information</h3>\n",
    "    Hover over a region\n",
    "    \"\"\",\n",
    ")\n",
    "display(hover_info)"
   ]
  },
  {
   "cell_type": "code",
   "execution_count": 126,
   "id": "a0b5eecc-81b1-4f58-9ca1-7c517bed9c13",
   "metadata": {
    "execution": {
     "iopub.execute_input": "2022-09-22T18:48:55.904791Z",
     "iopub.status.busy": "2022-09-22T18:48:55.904656Z",
     "iopub.status.idle": "2022-09-22T18:48:55.906685Z",
     "shell.execute_reply": "2022-09-22T18:48:55.906423Z",
     "shell.execute_reply.started": "2022-09-22T18:48:55.904778Z"
    },
    "extensions": {
     "jupyter_dashboards": {
      "activeView": "grid_default",
      "views": {
       "grid_default": {
        "col": null,
        "height": 2,
        "hidden": true,
        "locked": true,
        "row": null,
        "width": 2
       }
      }
     }
    },
    "tags": []
   },
   "outputs": [],
   "source": [
    "cal_layer.on_hover(update_html)"
   ]
  },
  {
   "cell_type": "code",
   "execution_count": 127,
   "id": "f4ba9f6f-d7a0-4a3d-be40-e5f9e52ab36a",
   "metadata": {
    "execution": {
     "iopub.execute_input": "2022-09-22T18:48:56.341934Z",
     "iopub.status.busy": "2022-09-22T18:48:56.341318Z",
     "iopub.status.idle": "2022-09-22T18:48:56.346615Z",
     "shell.execute_reply": "2022-09-22T18:48:56.346242Z",
     "shell.execute_reply.started": "2022-09-22T18:48:56.341892Z"
    },
    "extensions": {
     "jupyter_dashboards": {
      "activeView": "grid_default",
      "views": {
       "grid_default": {
        "col": null,
        "height": 2,
        "hidden": true,
        "locked": true,
        "row": null,
        "width": 2
       }
      }
     }
    },
    "tags": []
   },
   "outputs": [],
   "source": [
    "legend = LegendControl({\"Hazardous Waste Sites\":\"red\", \"Schools\":\"Gold\"}, name=\"Legend\", position=\"bottomright\")\n",
    "m.add_control(legend)\n"
   ]
  },
  {
   "cell_type": "code",
   "execution_count": null,
   "id": "a9c9849a-99a1-4e1c-abc1-ed2c2fcd472c",
   "metadata": {},
   "outputs": [],
   "source": []
  }
 ],
 "metadata": {
  "extensions": {
   "jupyter_dashboards": {
    "activeView": "grid_default",
    "version": 1,
    "views": {
     "grid_default": {
      "cellMargin": 2,
      "defaultCellHeight": 40,
      "maxColumns": 12,
      "name": "grid",
      "type": "grid"
     }
    }
   }
  },
  "kernelspec": {
   "display_name": "Python 3 (ipykernel)",
   "language": "python",
   "name": "python3"
  },
  "language_info": {
   "codemirror_mode": {
    "name": "ipython",
    "version": 3
   },
   "file_extension": ".py",
   "mimetype": "text/x-python",
   "name": "python",
   "nbconvert_exporter": "python",
   "pygments_lexer": "ipython3",
   "version": "3.10.2"
  }
 },
 "nbformat": 4,
 "nbformat_minor": 5
}
