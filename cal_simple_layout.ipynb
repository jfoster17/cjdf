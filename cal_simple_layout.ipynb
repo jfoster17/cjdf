{
 "cells": [
  {
   "cell_type": "markdown",
   "id": "077c485c-72ed-441c-8327-ee8897037894",
   "metadata": {},
   "source": [
    "# CalEnvironScore, Hazardous Waste Sites, and Schools by County"
   ]
  },
  {
   "cell_type": "markdown",
   "id": "771ef20a-f267-4209-826c-071a834b2409",
   "metadata": {},
   "source": [
    "This is some background information about the project"
   ]
  },
  {
   "cell_type": "code",
   "execution_count": 48,
   "id": "98213c00-3a91-4ce8-a985-4b3b76367c62",
   "metadata": {
    "execution": {
     "iopub.execute_input": "2022-09-23T14:55:56.937599Z",
     "iopub.status.busy": "2022-09-23T14:55:56.935938Z",
     "iopub.status.idle": "2022-09-23T14:55:56.962595Z",
     "shell.execute_reply": "2022-09-23T14:55:56.961376Z",
     "shell.execute_reply.started": "2022-09-23T14:55:56.937512Z"
    },
    "tags": []
   },
   "outputs": [],
   "source": [
    "import geopandas as gpd\n",
    "from ipyleaflet import Map, GeoData, basemaps, LayersControl, GeoJSON, LegendControl, WidgetControl\n",
    "import json\n",
    "import ipywidgets\n",
    "from ipywidgets import Layout\n",
    "from functools import partial\n",
    "from ipyspin import Spinner\n"
   ]
  },
  {
   "cell_type": "code",
   "execution_count": 52,
   "id": "d8486575-97c5-40a8-93fc-8fcdbecbf697",
   "metadata": {
    "execution": {
     "iopub.execute_input": "2022-09-23T14:56:12.262959Z",
     "iopub.status.busy": "2022-09-23T14:56:12.262560Z",
     "iopub.status.idle": "2022-09-23T14:56:12.285862Z",
     "shell.execute_reply": "2022-09-23T14:56:12.285083Z",
     "shell.execute_reply.started": "2022-09-23T14:56:12.262923Z"
    },
    "tags": []
   },
   "outputs": [],
   "source": [
    "spinner = Spinner()\n",
    "spinner.radius = 5\n",
    "spinner.length = 3\n",
    "spinner.width = 5\n",
    "spinner.lines = 8\n",
    "spinner.color = \"#000000\"\n",
    "spinner.layout.height = \"60px\"\n",
    "spinner.layout.width = \"60px\"\n",
    "spinner_control = WidgetControl(\n",
    "    widget=spinner, position=\"bottomleft\"\n",
    ")\n"
   ]
  },
  {
   "cell_type": "code",
   "execution_count": 51,
   "id": "7a5f8ccc-8dff-4088-ab2d-69574016c569",
   "metadata": {
    "execution": {
     "iopub.execute_input": "2022-09-23T14:56:02.283831Z",
     "iopub.status.busy": "2022-09-23T14:56:02.283614Z",
     "iopub.status.idle": "2022-09-23T14:56:02.287256Z",
     "shell.execute_reply": "2022-09-23T14:56:02.286708Z",
     "shell.execute_reply.started": "2022-09-23T14:56:02.283807Z"
    },
    "tags": []
   },
   "outputs": [],
   "source": [
    "def handle_new_var(change):\n",
    "    m.add_control(spinner_control)\n",
    "    cal_layer.style_callback = partial(feature_color,var = change.new)\n",
    "    for x,y in variable_lookup:\n",
    "        if y == change.new:\n",
    "            break\n",
    "    legend.name = x\n",
    "    m.remove_control(spinner_control)\n"
   ]
  },
  {
   "cell_type": "code",
   "execution_count": 3,
   "id": "4644459f-74b1-444f-9853-44b928307d19",
   "metadata": {
    "execution": {
     "iopub.execute_input": "2022-09-23T14:39:41.128029Z",
     "iopub.status.busy": "2022-09-23T14:39:41.127251Z",
     "iopub.status.idle": "2022-09-23T14:39:41.138452Z",
     "shell.execute_reply": "2022-09-23T14:39:41.136950Z",
     "shell.execute_reply.started": "2022-09-23T14:39:41.127951Z"
    },
    "tags": []
   },
   "outputs": [],
   "source": [
    "temps = ['#009392','#39b185','#9ccb86','#e9e29c','#eeb479','#e88471','#cf597e']\n",
    "sunset = ['#f3e79b','#fac484','#f8a07e','#eb7f86','#ce6693','#a059a0','#5c53a5']\n",
    "purpor = ['#f9ddda','#f2b9c4','#e597b9','#ce78b3','#ad5fad','#834ba0','#573b88']"
   ]
  },
  {
   "cell_type": "code",
   "execution_count": 4,
   "id": "b3783ee4-fea2-4a33-a35b-1ae9b31daf6f",
   "metadata": {
    "execution": {
     "iopub.execute_input": "2022-09-23T14:39:41.540478Z",
     "iopub.status.busy": "2022-09-23T14:39:41.539697Z",
     "iopub.status.idle": "2022-09-23T14:39:41.570246Z",
     "shell.execute_reply": "2022-09-23T14:39:41.568744Z",
     "shell.execute_reply.started": "2022-09-23T14:39:41.540404Z"
    },
    "tags": []
   },
   "outputs": [],
   "source": [
    "lookup_table = {'CIscoreP':[  0.        ,  14.28571429,  28.57142857,  42.85714286,\n",
    "         57.14285714,  71.42857143,  85.71428571, 100.        ],\n",
    " 'OzoneP': [  0.        ,  14.28571429,  28.57142857,  42.85714286,\n",
    "         57.14285714,  71.42857143,  85.71428571, 100.        ],\n",
    " 'PM2_5_P': [  0.        ,  14.28571429,  28.57142857,  42.85714286,\n",
    "         57.14285714,  71.42857143,  85.71428571, 100.        ],\n",
    " 'DieselPM_P':[  0.        ,  14.28571429,  28.57142857,  42.85714286,\n",
    "         57.14285714,  71.42857143,  85.71428571, 100.        ],\n",
    " 'PesticideP': [  0.        ,  14.28571429,  28.57142857,  42.85714286,\n",
    "         57.14285714,  71.42857143,  85.71428571, 100.        ],\n",
    " 'Tox_Rel_P': [  0.        ,  14.28571429,  28.57142857,  42.85714286,\n",
    "         57.14285714,  71.42857143,  85.71428571, 100.        ],\n",
    " 'TrafficP': [  0.        ,  14.28571429,  28.57142857,  42.85714286,\n",
    "         57.14285714,  71.42857143,  85.71428571, 100.        ],\n",
    " 'DrinkWatP':[  0.        ,  14.28571429,  28.57142857,  42.85714286,\n",
    "         57.14285714,  71.42857143,  85.71428571, 100.        ],\n",
    " 'Lead_P': [  0.        ,  14.28571429,  28.57142857,  42.85714286,\n",
    "         57.14285714,  71.42857143,  85.71428571, 100.        ],\n",
    " 'CleanupP': [  0.        ,  14.28571429,  28.57142857,  42.85714286,\n",
    "         57.14285714,  71.42857143,  85.71428571, 100.        ],\n",
    " 'GWThreatP': [  0.        ,  14.28571429,  28.57142857,  42.85714286,\n",
    "         57.14285714,  71.42857143,  85.71428571, 100.        ],\n",
    " 'HazWasteP': [  0.        ,  14.28571429,  28.57142857,  42.85714286,\n",
    "         57.14285714,  71.42857143,  85.71428571, 100.        ],\n",
    " 'ImpWatBodP': [  0.        ,  14.28571429,  28.57142857,  42.85714286,\n",
    "         57.14285714,  71.42857143,  85.71428571, 100.        ],\n",
    " 'SolWasteP': [  0.        ,  14.28571429,  28.57142857,  42.85714286,\n",
    "         57.14285714,  71.42857143,  85.71428571, 100.        ],\n",
    " 'PolBurdP': [  0.        ,  14.28571429,  28.57142857,  42.85714286,\n",
    "         57.14285714,  71.42857143,  85.71428571, 100.        ],\n",
    " 'AsthmaP': [  0.        ,  14.28571429,  28.57142857,  42.85714286,\n",
    "         57.14285714,  71.42857143,  85.71428571, 100.        ],\n",
    " 'LowBirWP': [  0.        ,  14.28571429,  28.57142857,  42.85714286,\n",
    "         57.14285714,  71.42857143,  85.71428571, 100.        ],\n",
    " 'CardiovasP':[  0.        ,  14.28571429,  28.57142857,  42.85714286,\n",
    "         57.14285714,  71.42857143,  85.71428571, 100.        ],\n",
    " 'EducatP': [  0.        ,  14.28571429,  28.57142857,  42.85714286,\n",
    "         57.14285714,  71.42857143,  85.71428571, 100.        ],\n",
    " 'Ling_IsolP':[  0.        ,  14.28571429,  28.57142857,  42.85714286,\n",
    "         57.14285714,  71.42857143,  85.71428571, 100.        ],\n",
    " 'PovertyP':[  0.        ,  14.28571429,  28.57142857,  42.85714286,\n",
    "         57.14285714,  71.42857143,  85.71428571, 100.        ],\n",
    " 'UnemplP': [  0.        ,  14.28571429,  28.57142857,  42.85714286,\n",
    "         57.14285714,  71.42857143,  85.71428571, 100.        ],\n",
    " 'HousBurdP': [  0.        ,  14.28571429,  28.57142857,  42.85714286,\n",
    "         57.14285714,  71.42857143,  85.71428571, 100.        ],\n",
    " 'PopCharP': [  0.        ,  14.28571429,  28.57142857,  42.85714286,\n",
    "         57.14285714,  71.42857143,  85.71428571, 100.        ],\n",
    " 'Hispanic': [ -1.      ,  10.414156,  16.993808,  25.102892,  37.262714,\n",
    "         53.427914,  71.86412 , 100.      ],\n",
    " 'White': [ -1.      ,   7.329732,  16.848244,  29.085772,  43.918998,\n",
    "         57.28446 ,  70.26504 , 100.      ],\n",
    " 'AfricanAm': [-1.      ,  0.281864,  0.978956,  1.886408,  3.326938,  5.691058,\n",
    "        10.6181  , 84.7082  ],\n",
    " 'NativeAm': [ -1.      ,   0.      ,   0.      ,   0.      ,   0.      ,\n",
    "          0.283014,   0.66225 , 100.      ],\n",
    " 'OtherMult': [-1.      ,  0.652344,  1.572924,  2.366828,  3.320956,  4.354834,\n",
    "         5.76382 , 17.0653  ],\n",
    " 'BIPOC': [0.        , 0.21473146, 0.31803276, 0.45102775, 0.61592223,\n",
    "        0.77472911, 0.9006613 , 1.        ],\n",
    " 'CleanupSite_Density': [1.31506805e-04, 1.22203901e-01, 3.35259215e-01, 5.25072014e-01,\n",
    "        7.74143341e-01, 1.12275009e+00, 1.93305654e+00, 3.83504085e+01]\n",
    "}\n"
   ]
  },
  {
   "cell_type": "code",
   "execution_count": 5,
   "id": "2484e173-f1ac-4f85-a11c-7217e7fa2f67",
   "metadata": {
    "execution": {
     "iopub.execute_input": "2022-09-23T14:39:41.961404Z",
     "iopub.status.busy": "2022-09-23T14:39:41.960730Z",
     "iopub.status.idle": "2022-09-23T14:39:41.990390Z",
     "shell.execute_reply": "2022-09-23T14:39:41.989739Z",
     "shell.execute_reply.started": "2022-09-23T14:39:41.961339Z"
    },
    "tags": []
   },
   "outputs": [],
   "source": [
    "region_focus = {'Santa Barbara': ([34.67, -120.02], 10),\n",
    " 'Colusa': ([39.18, -122.24], 10),\n",
    " 'Tehama': ([40.13, -122.23], 9),\n",
    " 'Imperial': ([33.04, -115.37], 9),\n",
    " 'Monterey': ([36.22, -121.24], 9),\n",
    " 'Amador': ([38.45, -120.65], 10),\n",
    " 'Placer': ([39.06, -120.75], 10),\n",
    " 'Calaveras': ([38.2, -120.55], 10),\n",
    " 'Mono': ([37.94, -118.89], 9),\n",
    " 'Orange': ([33.7, -117.76], 10),\n",
    " 'Sonoma': ([38.53, -122.89], 9),\n",
    " 'Siskiyou': ([41.59, -122.54], 9),\n",
    " 'Kern': ([35.34, -118.73], 9),\n",
    " 'Yolo': ([38.69, -121.9], 10),\n",
    " 'Sacramento': ([38.45, -121.34], 10),\n",
    " 'Madera': ([37.22, -119.76], 9),\n",
    " 'Mendocino': ([39.44, -123.39], 9),\n",
    " 'Tulare': ([36.22, -118.8], 9),\n",
    " 'Yuba': ([39.27, -121.35], 10),\n",
    " 'Plumas': ([40.0, -120.84], 10),\n",
    " 'Stanislaus': ([37.56, -121.0], 10),\n",
    " 'Shasta': ([40.76, -122.04], 9),\n",
    " 'Fresno': ([36.76, -119.65], 9),\n",
    " 'Marin': ([38.07, -122.72], 10),\n",
    " 'Mariposa': ([37.58, -119.91], 10),\n",
    " 'Alpine': ([38.6, -119.82], 10),\n",
    " 'Glenn': ([39.6, -122.39], 10),\n",
    " 'Lassen': ([40.67, -120.59], 9),\n",
    " 'Del Norte': ([41.74, -123.9], 10),\n",
    " 'San Mateo': ([37.42, -122.33], 10),\n",
    " 'San Luis Obispo': ([35.39, -120.4], 9),\n",
    " 'Napa': ([38.51, -122.33], 10),\n",
    " 'San Joaquin': ([37.93, -121.27], 10),\n",
    " 'Nevada': ([39.3, -120.77], 10),\n",
    " 'San Bernardino': ([34.84, -116.18], 8),\n",
    " 'Riverside': ([33.74, -115.99], 9),\n",
    " 'Sutter': ([39.03, -121.69], 10),\n",
    " 'Trinity': ([40.65, -123.11], 9),\n",
    " 'Contra Costa': ([37.92, -121.93], 10),\n",
    " 'Ventura': ([34.46, -119.08], 9),\n",
    " 'El Dorado': ([38.77, -120.54], 10),\n",
    " 'Tuolumne': ([38.03, -119.95], 10),\n",
    " 'Sierra': ([39.58, -120.52], 10),\n",
    " 'Lake': ([39.1, -122.75], 10),\n",
    " 'Butte': ([39.67, -121.6], 10),\n",
    " 'Modoc': ([41.59, -120.72], 9),\n",
    " 'Alameda': ([37.65, -121.89], 10),\n",
    " 'San Francisco': ([37.76, -122.44], 10),\n",
    " 'Merced': ([37.19, -120.72], 10),\n",
    " 'Inyo': ([36.51, -117.41], 8),\n",
    " 'Solano': ([38.27, -121.93], 10),\n",
    " 'Kings': ([36.08, -119.82], 10),\n",
    " 'Humboldt': ([40.7, -123.88], 8),\n",
    " 'Los Angeles': ([34.32, -118.22], 9),\n",
    " 'Santa Clara': ([37.18, -121.75], 5),\n",
    " 'San Diego': ([32.99, -116.85], 9),\n",
    " 'San Benito': ([36.59, -121.09], 9),\n",
    " 'Santa Cruz': ([37.02, -121.97], 10),               \n",
    "               }\n"
   ]
  },
  {
   "cell_type": "code",
   "execution_count": 6,
   "id": "27f20573-39ca-4032-87a7-c874a0b63e7a",
   "metadata": {
    "execution": {
     "iopub.execute_input": "2022-09-23T14:39:42.303788Z",
     "iopub.status.busy": "2022-09-23T14:39:42.303107Z",
     "iopub.status.idle": "2022-09-23T14:39:42.312332Z",
     "shell.execute_reply": "2022-09-23T14:39:42.311047Z",
     "shell.execute_reply.started": "2022-09-23T14:39:42.303723Z"
    },
    "tags": []
   },
   "outputs": [],
   "source": [
    "def handle_new_region(change):\n",
    "    center,zoom = region_focus[change.new]\n",
    "    m.center = center\n",
    "    m.zoom = zoom\n",
    "    cal_reduced = calenviroscreen[calenviroscreen['County'] == change.new]\n",
    "    school_reduced = schools[schools['County'] == change.new]\n",
    "    hzw_sites_reduced = hzw_sites[hzw_sites['COUNTY'] == change.new.upper()]\n",
    "\n",
    "    cal_layer.data = cal_reduced.__geo_interface__\n",
    "    school_layer.data = school_reduced.__geo_interface__\n",
    "    hzw_sites_layer.data = hzw_sites_reduced.__geo_interface__"
   ]
  },
  {
   "cell_type": "code",
   "execution_count": null,
   "id": "1d451be7-74ae-4b2e-9477-a86ea67146a9",
   "metadata": {},
   "outputs": [],
   "source": [
    "variable_lookup = [('CalEnviroScreen Score','CIscoreP'),\n",
    "             ('Ozone','OzoneP'),\n",
    "             ('Particulate Catter (PM2.5)','PM2_5_P'),\n",
    "             ('Diesel Particulate Matter','DieselPM_P'),\n",
    "             ('Pesticide Use','PesticideP'),\n",
    "             ('Toxic Releases from Facilities','Tox_Rel_P'),\n",
    "             ('Traffic Impacts','TrafficP'),\n",
    "             ('Drinking Water Contaminants','DrinkWatP'),\n",
    "             (\"Children's Lead Risk from Housing\",'Lead_P'),\n",
    "             ('Cleanup Sites','CleanupP'),\n",
    "             ('Groundwater Threats','GWThreatP'),\n",
    "             ('Hazardous Waste','HazWasteP'),\n",
    "             ('Impaired Waters','ImpWatBodP'),\n",
    "             ('Solid Waste Sites','SolWasteP'),\n",
    "             ('Total Population Burden','PolBurdP'),\n",
    "             ('Asthma','AsthmaP'),\n",
    "             ('Low Birth Weight','LowBirWP'),\n",
    "             ('Cardiovascular Disease','CardiovasP'),\n",
    "             ('Education','EducatP'),\n",
    "             ('Linguistic Isolation','Ling_IsolP'),\n",
    "             ('Poverty','PovertyP'),\n",
    "             ('Unemployment','UnemplP'),\n",
    "             ('Housing Burden','HousBurdP'),\n",
    "             ('Total Population Characteristics','PopCharP'),\n",
    "             ('% Hispanic','Hispanic'),\n",
    "             ('% White','White'),\n",
    "             ('% African American','AfricanAm'),\n",
    "             ('% Native American','NativeAm'),\n",
    "             ('% Other/Multiple Ethnicity','OtherMult'),\n",
    "             ('% BIPOC', 'BIPOC'),\n",
    "             ('Density of Cleanup Sites','CleanupSite_Density')]"
   ]
  },
  {
   "cell_type": "code",
   "execution_count": 7,
   "id": "2479474c-7832-4a76-9619-ffaebb62e381",
   "metadata": {
    "execution": {
     "iopub.execute_input": "2022-09-23T14:39:42.706580Z",
     "iopub.status.busy": "2022-09-23T14:39:42.706208Z",
     "iopub.status.idle": "2022-09-23T14:39:42.738045Z",
     "shell.execute_reply": "2022-09-23T14:39:42.737494Z",
     "shell.execute_reply.started": "2022-09-23T14:39:42.706546Z"
    },
    "tags": []
   },
   "outputs": [],
   "source": [
    "var_caption = ipywidgets.Label(value='Choose a variable to display as color on the map')\n",
    "var_selection = ipywidgets.Dropdown(\n",
    "    options=variable_lookup,\n",
    "    value='CIscoreP',\n",
    "    description='Variable:',\n",
    ")\n",
    "var_selection.observe(handle_new_var,names='value')\n",
    "#display(var_caption, var_selection)"
   ]
  },
  {
   "cell_type": "code",
   "execution_count": 8,
   "id": "04ad3f8e-cc75-46c3-bff7-45f0d78c6fed",
   "metadata": {
    "execution": {
     "iopub.execute_input": "2022-09-23T14:39:43.106461Z",
     "iopub.status.busy": "2022-09-23T14:39:43.105737Z",
     "iopub.status.idle": "2022-09-23T14:39:43.133804Z",
     "shell.execute_reply": "2022-09-23T14:39:43.133266Z",
     "shell.execute_reply.started": "2022-09-23T14:39:43.106388Z"
    },
    "tags": []
   },
   "outputs": [],
   "source": [
    "region_caption = ipywidgets.Label(value='Choose a county to display')\n",
    "region_selection = ipywidgets.Dropdown(\n",
    "    options= sorted(list(region_focus.keys())),\n",
    "    value='Los Angeles',\n",
    "    description='County:',\n",
    ")\n",
    "region_selection.observe(handle_new_region, names='value')\n",
    "#display(region_caption, region_selection)"
   ]
  },
  {
   "cell_type": "code",
   "execution_count": 9,
   "id": "cb071db8-f50b-471b-a0f7-423f4f533785",
   "metadata": {
    "execution": {
     "iopub.execute_input": "2022-09-23T14:39:43.531869Z",
     "iopub.status.busy": "2022-09-23T14:39:43.531507Z",
     "iopub.status.idle": "2022-09-23T14:39:44.024935Z",
     "shell.execute_reply": "2022-09-23T14:39:44.024604Z",
     "shell.execute_reply.started": "2022-09-23T14:39:43.531836Z"
    },
    "tags": []
   },
   "outputs": [],
   "source": [
    "calenviroscreen = gpd.read_file(\"calenviroscreen.gpkg\")\n",
    "calenviroscreen_la = calenviroscreen[calenviroscreen['County'] == 'Los Angeles']\n"
   ]
  },
  {
   "cell_type": "code",
   "execution_count": 10,
   "id": "bf9a4538-611c-4e9d-b139-3a6d0de1e8e3",
   "metadata": {
    "execution": {
     "iopub.execute_input": "2022-09-23T14:39:44.025888Z",
     "iopub.status.busy": "2022-09-23T14:39:44.025801Z",
     "iopub.status.idle": "2022-09-23T14:39:44.029501Z",
     "shell.execute_reply": "2022-09-23T14:39:44.029080Z",
     "shell.execute_reply.started": "2022-09-23T14:39:44.025876Z"
    },
    "tags": []
   },
   "outputs": [],
   "source": [
    "def feature_color(feature, var='CIscoreP'):\n",
    "    score = feature['properties'][var]\n",
    "    breaks = lookup_table.get(var)\n",
    "    if var.endswith('P') or var =='CleanupSite_Density':\n",
    "        colormap = temps\n",
    "    else:\n",
    "        colormap = purpor\n",
    "    if score < 0:\n",
    "        return {'fillColor':'gray','color':'gray'}\n",
    "    else:\n",
    "        for i,breakpoint in enumerate(breaks):\n",
    "            if score <= breakpoint:\n",
    "                break\n",
    "    return {'fillColor':colormap[i-1], 'color':colormap[i-1]}"
   ]
  },
  {
   "cell_type": "code",
   "execution_count": 11,
   "id": "e583ebaa-f509-42e4-a530-60a80de67fb2",
   "metadata": {
    "execution": {
     "iopub.execute_input": "2022-09-23T14:39:44.317966Z",
     "iopub.status.busy": "2022-09-23T14:39:44.317290Z",
     "iopub.status.idle": "2022-09-23T14:39:45.723091Z",
     "shell.execute_reply": "2022-09-23T14:39:45.722488Z",
     "shell.execute_reply.started": "2022-09-23T14:39:44.317900Z"
    },
    "tags": []
   },
   "outputs": [],
   "source": [
    "m = Map(center=(33.94, -118.24), zoom = 10, basemap= basemaps.Esri.WorldTopoMap,\n",
    "       layout=Layout(height='600px'))\n",
    "cal_layer = GeoJSON(data = calenviroscreen_la.__geo_interface__,\n",
    "                    style={'weight':0.1,'fillOpacity':0.2},\n",
    "                    hover_style={'fillOpacity': 0.4},\n",
    "                    #style_callback=lambda feat: {\"opacity\": 0}, #This was an attempt to stop the layer from blinking as we switch. It did not work\n",
    "                    name = 'CalEnvironScreen')\n",
    "m.add_layer(cal_layer)\n",
    "cal_layer.style_callback = partial(feature_color, var='CIscoreP')\n",
    "\n",
    "#m"
   ]
  },
  {
   "cell_type": "code",
   "execution_count": 12,
   "id": "f1ed3bc8-18d9-4e69-9f34-7924d0056c77",
   "metadata": {
    "execution": {
     "iopub.execute_input": "2022-09-23T14:39:45.724642Z",
     "iopub.status.busy": "2022-09-23T14:39:45.724505Z",
     "iopub.status.idle": "2022-09-23T14:39:46.199325Z",
     "shell.execute_reply": "2022-09-23T14:39:46.198998Z",
     "shell.execute_reply.started": "2022-09-23T14:39:45.724629Z"
    },
    "tags": []
   },
   "outputs": [],
   "source": [
    "hzw_sites = gpd.read_file(f'hzw_sites.gpkg')"
   ]
  },
  {
   "cell_type": "code",
   "execution_count": 13,
   "id": "c1108207-f9c6-42de-a2f1-f788159fac71",
   "metadata": {
    "execution": {
     "iopub.execute_input": "2022-09-23T14:39:46.199995Z",
     "iopub.status.busy": "2022-09-23T14:39:46.199910Z",
     "iopub.status.idle": "2022-09-23T14:39:46.878686Z",
     "shell.execute_reply": "2022-09-23T14:39:46.878361Z",
     "shell.execute_reply.started": "2022-09-23T14:39:46.199984Z"
    },
    "tags": []
   },
   "outputs": [],
   "source": [
    "schools = gpd.read_file('schools.gpkg')\n"
   ]
  },
  {
   "cell_type": "code",
   "execution_count": 14,
   "id": "027101a5-613d-455b-87e4-a4bca59d59a8",
   "metadata": {
    "execution": {
     "iopub.execute_input": "2022-09-23T14:39:46.879945Z",
     "iopub.status.busy": "2022-09-23T14:39:46.879853Z",
     "iopub.status.idle": "2022-09-23T14:39:46.887827Z",
     "shell.execute_reply": "2022-09-23T14:39:46.887553Z",
     "shell.execute_reply.started": "2022-09-23T14:39:46.879933Z"
    },
    "tags": []
   },
   "outputs": [],
   "source": [
    "schools_la = schools[schools['County']=='Los Angeles']\n",
    "hzw_sites_la = hzw_sites[hzw_sites['COUNTY']=='LOS ANGELES']"
   ]
  },
  {
   "cell_type": "code",
   "execution_count": 15,
   "id": "48e49a97-cfd0-4040-95ae-3dc969b1acc5",
   "metadata": {
    "execution": {
     "iopub.execute_input": "2022-09-23T14:39:46.888472Z",
     "iopub.status.busy": "2022-09-23T14:39:46.888385Z",
     "iopub.status.idle": "2022-09-23T14:39:48.828021Z",
     "shell.execute_reply": "2022-09-23T14:39:48.818669Z",
     "shell.execute_reply.started": "2022-09-23T14:39:46.888461Z"
    },
    "tags": []
   },
   "outputs": [],
   "source": [
    "school_layer =  GeoJSON(data = schools_la.__geo_interface__,\n",
    "                    style={'color': 'gold', 'radius':8, 'fillColor': 'gold', 'opacity':0.9, 'weight':1.9, 'dashArray':'2', 'fillOpacity':0.7},\n",
    "                    hover_style={'fillColor': 'gold' , 'fillOpacity': 0.7},\n",
    "                    name = 'Schools')"
   ]
  },
  {
   "cell_type": "code",
   "execution_count": 16,
   "id": "dbb1561c-1ae9-4769-be3e-96a0c8af9450",
   "metadata": {
    "execution": {
     "iopub.execute_input": "2022-09-23T14:39:48.834880Z",
     "iopub.status.busy": "2022-09-23T14:39:48.834318Z",
     "iopub.status.idle": "2022-09-23T14:39:48.841719Z",
     "shell.execute_reply": "2022-09-23T14:39:48.840648Z",
     "shell.execute_reply.started": "2022-09-23T14:39:48.834851Z"
    },
    "tags": []
   },
   "outputs": [],
   "source": [
    "m.add_layer(school_layer)\n"
   ]
  },
  {
   "cell_type": "code",
   "execution_count": 17,
   "id": "ae1cede2-bba2-43f0-a13a-33eadaa58969",
   "metadata": {
    "execution": {
     "iopub.execute_input": "2022-09-23T14:39:48.845796Z",
     "iopub.status.busy": "2022-09-23T14:39:48.843276Z",
     "iopub.status.idle": "2022-09-23T14:39:49.339176Z",
     "shell.execute_reply": "2022-09-23T14:39:49.337405Z",
     "shell.execute_reply.started": "2022-09-23T14:39:48.845779Z"
    },
    "tags": []
   },
   "outputs": [],
   "source": [
    "hzw_sites_layer =  GeoJSON(data = hzw_sites_la.__geo_interface__,\n",
    "                    style={'color': 'red', 'radius':2, 'fillColor': 'red', 'opacity':0.5, 'weight':1.9, 'dashArray':'2', 'fillOpacity':0.3},\n",
    "                    #hover_style={'fillColor': 'red' , 'fillOpacity': 0.7},\n",
    "                    point_style={'radius': 2, 'color': 'red', 'fillOpacity': 0.3, 'fillColor': 'red', 'weight': 0},\n",
    "                    name = 'Hazardous Waste Cleanup Sites')"
   ]
  },
  {
   "cell_type": "code",
   "execution_count": 18,
   "id": "2431f345-fb61-4aee-862d-204a0b22d902",
   "metadata": {
    "execution": {
     "iopub.execute_input": "2022-09-23T14:39:49.349404Z",
     "iopub.status.busy": "2022-09-23T14:39:49.348928Z",
     "iopub.status.idle": "2022-09-23T14:39:49.360053Z",
     "shell.execute_reply": "2022-09-23T14:39:49.358890Z",
     "shell.execute_reply.started": "2022-09-23T14:39:49.349377Z"
    },
    "tags": []
   },
   "outputs": [],
   "source": [
    "m.add_layer(hzw_sites_layer)"
   ]
  },
  {
   "cell_type": "code",
   "execution_count": 19,
   "id": "38a2a5e3-6a94-462d-966e-66f213b7f724",
   "metadata": {
    "execution": {
     "iopub.execute_input": "2022-09-23T14:39:50.676984Z",
     "iopub.status.busy": "2022-09-23T14:39:50.675199Z",
     "iopub.status.idle": "2022-09-23T14:39:50.696875Z",
     "shell.execute_reply": "2022-09-23T14:39:50.695842Z",
     "shell.execute_reply.started": "2022-09-23T14:39:50.676845Z"
    },
    "tags": []
   },
   "outputs": [],
   "source": [
    "control = LayersControl(position='topright')\n",
    "m.add_control(control)\n"
   ]
  },
  {
   "cell_type": "code",
   "execution_count": 39,
   "id": "463b5f0b-3418-4b6e-aec5-98fc81d0ec7a",
   "metadata": {
    "execution": {
     "iopub.execute_input": "2022-09-23T14:41:16.662133Z",
     "iopub.status.busy": "2022-09-23T14:41:16.661330Z",
     "iopub.status.idle": "2022-09-23T14:41:16.677604Z",
     "shell.execute_reply": "2022-09-23T14:41:16.676149Z",
     "shell.execute_reply.started": "2022-09-23T14:41:16.662016Z"
    },
    "tags": []
   },
   "outputs": [],
   "source": [
    "def update_html(feature, **kwargs):\n",
    "    #print(feature['properties'])\n",
    "    tract = feature['properties']['Tract']\n",
    "    hover_info.value = f'''\n",
    "    <h3>Census Tract Information</h3>\n",
    "        <h4><b>Tract #: {tract}</b></h4>\n",
    "        Location: {feature['properties']['ApproxLoc']}</br>\n",
    "        Population: {feature['properties']['TotPop19']}</br>\n",
    "    '''\n",
    "    df = hzw_sites[hzw_sites['Tract'] == tract]\n",
    "    site_info.clear_output()\n",
    "    with site_info:\n",
    "        display(df[['Tract','PROJECT_NAME','ADDRESS','SITE_TYPE','APN','LEAD_AGENCY','STATUS','PAST_USES']].set_index('Tract'))\n"
   ]
  },
  {
   "cell_type": "code",
   "execution_count": 40,
   "id": "f2489cb8-a0fb-4e7a-909c-9f472969e48e",
   "metadata": {
    "execution": {
     "iopub.execute_input": "2022-09-23T14:41:17.339513Z",
     "iopub.status.busy": "2022-09-23T14:41:17.338713Z",
     "iopub.status.idle": "2022-09-23T14:41:17.367524Z",
     "shell.execute_reply": "2022-09-23T14:41:17.366603Z",
     "shell.execute_reply.started": "2022-09-23T14:41:17.339439Z"
    },
    "tags": []
   },
   "outputs": [
    {
     "data": {
      "application/vnd.jupyter.widget-view+json": {
       "model_id": "307048aaad9440b58c08877b3fdc655a",
       "version_major": 2,
       "version_minor": 0
      },
      "text/plain": [
       "Output()"
      ]
     },
     "metadata": {},
     "output_type": "display_data"
    }
   ],
   "source": [
    "site_info = ipywidgets.Output()\n",
    "#display(site_info)"
   ]
  },
  {
   "cell_type": "code",
   "execution_count": 41,
   "id": "9891f618-f250-4740-9cc4-3643f06419d9",
   "metadata": {
    "execution": {
     "iopub.execute_input": "2022-09-23T14:41:18.214746Z",
     "iopub.status.busy": "2022-09-23T14:41:18.214061Z",
     "iopub.status.idle": "2022-09-23T14:41:18.238850Z",
     "shell.execute_reply": "2022-09-23T14:41:18.237509Z",
     "shell.execute_reply.started": "2022-09-23T14:41:18.214681Z"
    },
    "tags": []
   },
   "outputs": [
    {
     "data": {
      "application/vnd.jupyter.widget-view+json": {
       "model_id": "df681f721c4e48418437ceef83a2ac47",
       "version_major": 2,
       "version_minor": 0
      },
      "text/plain": [
       "HTML(value='\\n    <h3>Census Tract Information</h3>\\n    Hover over a region\\n    ')"
      ]
     },
     "metadata": {},
     "output_type": "display_data"
    }
   ],
   "source": [
    "hover_info = ipywidgets.HTML(\n",
    "    value=\"\"\"\n",
    "    <h3>Census Tract Information</h3>\n",
    "    Hover over a region\n",
    "    \"\"\",\n",
    ")\n",
    "#display(hover_info)"
   ]
  },
  {
   "cell_type": "code",
   "execution_count": 42,
   "id": "f5078e1d-df9c-4d03-a939-7ee38334fda8",
   "metadata": {
    "execution": {
     "iopub.execute_input": "2022-09-23T14:41:18.726825Z",
     "iopub.status.busy": "2022-09-23T14:41:18.726450Z",
     "iopub.status.idle": "2022-09-23T14:41:18.731061Z",
     "shell.execute_reply": "2022-09-23T14:41:18.730226Z",
     "shell.execute_reply.started": "2022-09-23T14:41:18.726794Z"
    },
    "tags": []
   },
   "outputs": [],
   "source": [
    "cal_layer.on_hover(update_html)"
   ]
  },
  {
   "cell_type": "code",
   "execution_count": 43,
   "id": "c68656f9-4ec1-4b00-bf36-5e751b9c22ee",
   "metadata": {
    "execution": {
     "iopub.execute_input": "2022-09-23T14:41:18.955040Z",
     "iopub.status.busy": "2022-09-23T14:41:18.954632Z",
     "iopub.status.idle": "2022-09-23T14:41:18.966009Z",
     "shell.execute_reply": "2022-09-23T14:41:18.964809Z",
     "shell.execute_reply.started": "2022-09-23T14:41:18.955004Z"
    },
    "tags": []
   },
   "outputs": [],
   "source": [
    "legend = LegendControl({\"Hazardous Waste Sites\":\"red\", \"Schools\":\"Gold\"}, name=\"Legend\", position=\"bottomright\")\n",
    "legend.name='CalEnviroScreen Score'\n",
    "m.add_control(legend)\n"
   ]
  },
  {
   "cell_type": "code",
   "execution_count": 44,
   "id": "bdd08691-cfcc-42b6-8d6c-6858ad0fe7d2",
   "metadata": {
    "execution": {
     "iopub.execute_input": "2022-09-23T14:41:19.149334Z",
     "iopub.status.busy": "2022-09-23T14:41:19.148608Z",
     "iopub.status.idle": "2022-09-23T14:41:19.156430Z",
     "shell.execute_reply": "2022-09-23T14:41:19.154947Z",
     "shell.execute_reply.started": "2022-09-23T14:41:19.149259Z"
    },
    "tags": []
   },
   "outputs": [],
   "source": [
    "from ipywidgets import AppLayout, Layout, VBox, HBox\n"
   ]
  },
  {
   "cell_type": "code",
   "execution_count": 45,
   "id": "06e7ed6d-9fc1-4c63-b64a-78e722b3faf9",
   "metadata": {
    "execution": {
     "iopub.execute_input": "2022-09-23T14:41:19.440014Z",
     "iopub.status.busy": "2022-09-23T14:41:19.439642Z",
     "iopub.status.idle": "2022-09-23T14:41:19.453310Z",
     "shell.execute_reply": "2022-09-23T14:41:19.452579Z",
     "shell.execute_reply.started": "2022-09-23T14:41:19.439983Z"
    },
    "tags": []
   },
   "outputs": [],
   "source": [
    "side_bar = VBox([region_caption,region_selection, var_caption, var_selection, hover_info])"
   ]
  },
  {
   "cell_type": "code",
   "execution_count": null,
   "id": "d57d09e0-e096-48b3-98e1-ba8fd4089360",
   "metadata": {
    "tags": []
   },
   "outputs": [],
   "source": []
  },
  {
   "cell_type": "code",
   "execution_count": 46,
   "id": "17246589-6090-4052-aed3-66a8b966a468",
   "metadata": {
    "execution": {
     "iopub.execute_input": "2022-09-23T14:41:20.000607Z",
     "iopub.status.busy": "2022-09-23T14:41:19.999916Z",
     "iopub.status.idle": "2022-09-23T14:41:20.634347Z",
     "shell.execute_reply": "2022-09-23T14:41:20.634024Z",
     "shell.execute_reply.started": "2022-09-23T14:41:20.000539Z"
    },
    "tags": []
   },
   "outputs": [
    {
     "data": {
      "application/vnd.jupyter.widget-view+json": {
       "model_id": "cccb81ddd7f34b9da8d4d9a5055f874c",
       "version_major": 2,
       "version_minor": 0
      },
      "text/plain": [
       "AppLayout(children=(Output(layout=Layout(grid_area='footer')), VBox(children=(Label(value='Choose a county to …"
      ]
     },
     "metadata": {},
     "output_type": "display_data"
    }
   ],
   "source": [
    "AppLayout(header=None,\n",
    "          left_sidebar=None,\n",
    "          center=m,\n",
    "          right_sidebar=side_bar,\n",
    "          footer=site_info,\n",
    "          pane_heights=[1,5,20])\n"
   ]
  },
  {
   "cell_type": "code",
   "execution_count": null,
   "id": "4bbcdd34-6f83-4764-b225-4539b73db5e9",
   "metadata": {},
   "outputs": [],
   "source": []
  }
 ],
 "metadata": {
  "kernelspec": {
   "display_name": "Python 3 (ipykernel)",
   "language": "python",
   "name": "python3"
  },
  "language_info": {
   "codemirror_mode": {
    "name": "ipython",
    "version": 3
   },
   "file_extension": ".py",
   "mimetype": "text/x-python",
   "name": "python",
   "nbconvert_exporter": "python",
   "pygments_lexer": "ipython3",
   "version": "3.10.2"
  }
 },
 "nbformat": 4,
 "nbformat_minor": 5
}
